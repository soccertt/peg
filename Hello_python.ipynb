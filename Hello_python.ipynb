{
 "cells": [
  {
   "cell_type": "code",
   "execution_count": 1,
   "metadata": {
    "collapsed": false
   },
   "outputs": [
    {
     "data": {
      "text/plain": [
       "75"
      ]
     },
     "execution_count": 1,
     "metadata": {},
     "output_type": "execute_result"
    }
   ],
   "source": [
    "25*3"
   ]
  },
  {
   "cell_type": "code",
   "execution_count": 2,
   "metadata": {
    "collapsed": false
   },
   "outputs": [
    {
     "name": "stdout",
     "output_type": "stream",
     "text": [
      "Hello วิชาไพธอน\n"
     ]
    }
   ],
   "source": [
    "print ('Hello วิชาไพธอน')"
   ]
  },
  {
   "cell_type": "markdown",
   "metadata": {},
   "source": []
  },
  {
   "cell_type": "markdown",
   "metadata": {},
   "source": [
    "#หัวข้อใหญ่"
   ]
  },
  {
   "cell_type": "markdown",
   "metadata": {},
   "source": [
    "# หัวข้อใหญ่\n",
    "## หัวข้อรอง มี 2-8 เครื่องหมายสีเหลี่ยม\n",
    "ข้อความทั่วไปก็พิมพ์ไปได้เลย เว้น 1 บรรัดสุดท้ายย่อหน้าด้วย\n",
    "\n",
    "ถ้ายอยากได้ตัวหนา __ก็ทำอย่างนี้__ แล้วก้ _ทำแบบนี้_ กับตัวเอียง\n",
    "\n",
    "หัวข้อเรื่อง\n",
    "* รายข้อ\n",
    "* รายข้อ\n",
    "        1. ลำดับ\n",
    "        2. ลำดับ\n",
    "        \n",
    " ````python \n",
    "print ('Hello วิชาไพธอน')\n",
    " ````\n",
    "อยากเก่งก็ต้องทำไง?\n",
    ">\n",
    "\n"
   ]
  },
  {
   "cell_type": "code",
   "execution_count": null,
   "metadata": {
    "collapsed": true
   },
   "outputs": [],
   "source": []
  },
  {
   "cell_type": "markdown",
   "metadata": {},
   "source": [
    "# หัวข้อใหญ่\n",
    "## หัวข้อรอง มี 2-8 เครื่องหมายสีเหลี่ยม\n",
    "ข้อความทั่วไปก็พิมพ์ไปได้เลย เว้น 1 บรรัดสุดท้ายย่อหน้าด้วย\n",
    "\n",
    "ถ้ายอยากได้ตัวหนา __ก็ทำอย่างนี้__ แล้วก้ _ทำแบบนี้_ กับตัวเอียง\n",
    "\n",
    "หัวข้อเรื่อง\n",
    "* รายข้อ\n",
    "* รายข้อ\n",
    "        1. ลำดับ\n",
    "        2. ลำดับ\n",
    "        \n",
    " ````python \n",
    "print ('Hello วิชาไพธอน')\n",
    " ````\n",
    "อยากเก่งก็ต้องทำไง?\n",
    ">\n",
    "\n"
   ]
  },
  {
   "cell_type": "code",
   "execution_count": null,
   "metadata": {
    "collapsed": false
   },
   "outputs": [],
   "source": []
  },
  {
   "cell_type": "code",
   "execution_count": 102,
   "metadata": {
    "collapsed": false
   },
   "outputs": [
    {
     "name": "stdout",
     "output_type": "stream",
     "text": [
      "เลขคี่\n"
     ]
    }
   ],
   "source": [
    "\n",
    "num = 75.00\n",
    "if (num % 2) == 0:\n",
    "   print('เลขคู่'.format(num))\n",
    "else:\n",
    "   print('เลขคี่'.format(num))"
   ]
  },
  {
   "cell_type": "code",
   "execution_count": 101,
   "metadata": {
    "collapsed": false
   },
   "outputs": [
    {
     "name": "stdout",
     "output_type": "stream",
     "text": [
      "37.5\n",
      "68.4\n"
     ]
    }
   ],
   "source": [
    "#temperater converter\n",
    "t1 = 99.5\n",
    "t2 = 38.2\n",
    "celsius = ((t1-32)*5/9)\n",
    "print(celsius)\n",
    "\n",
    "fahrenheit = ((t2-9/5+32))\n",
    "print (fahrenheit)"
   ]
  },
  {
   "cell_type": "code",
   "execution_count": 151,
   "metadata": {
    "collapsed": false
   },
   "outputs": [
    {
     "name": "stdout",
     "output_type": "stream",
     "text": [
      "มึงอ้วนไอฟาย\n"
     ]
    }
   ],
   "source": [
    "#print ('{:.4f}'.format(fahrenheit))\n",
    "\n",
    "body_weight = 85 #kg.\n",
    "height= 1.72        #m.\n",
    "bmi_score = ((body_weight/height)*2) #calculate\n",
    "if bmi_score >=30.0:\n",
    "    print('มึงอ้วนไอฟาย')\n",
    "elif bmi_score <=25.0:\n",
    "    print('มึงกินข้าวบ้างนะไอฟาย')\n",
    "elif bmi_score <=18.6:\n",
    "    print('มึงกินข้าวบ้างนะไอฟาย')\n",
    "else :\n",
    "    print('มึงปกติดีไอฟาย')\n",
    "\n",
    "\n",
    "\n",
    "\n",
    "\n",
    "\n"
   ]
  },
  {
   "cell_type": "code",
   "execution_count": 124,
   "metadata": {
    "collapsed": false
   },
   "outputs": [
    {
     "name": "stdout",
     "output_type": "stream",
     "text": [
      "[1, 2, 3, 4, 5, 6, 7, 8, 9, 0]\n"
     ]
    }
   ],
   "source": [
    "list1 = [1,2,3,4,5]\n",
    "list2 = [6,7,8,9,0]\n",
    "a=list1+list2 \n",
    "print (a)\n"
   ]
  },
  {
   "cell_type": "code",
   "execution_count": 140,
   "metadata": {
    "collapsed": false
   },
   "outputs": [
    {
     "name": "stdout",
     "output_type": "stream",
     "text": [
      "we HAVE 99\n"
     ]
    }
   ],
   "source": [
    "dic1={'name':'PEG','age':99,'heght':'1.65'}\n",
    "#print(dic1['name'])\n",
    "\n",
    "\n",
    "if 99 in list (dic1.values()):\n",
    "    print ('we HAVE 99')"
   ]
  },
  {
   "cell_type": "code",
   "execution_count": null,
   "metadata": {
    "collapsed": true
   },
   "outputs": [],
   "source": []
  },
  {
   "cell_type": "code",
   "execution_count": null,
   "metadata": {
    "collapsed": true
   },
   "outputs": [],
   "source": []
  }
 ],
 "metadata": {
  "kernelspec": {
   "display_name": "Python 3",
   "language": "python",
   "name": "python3"
  },
  "language_info": {
   "codemirror_mode": {
    "name": "ipython",
    "version": 3
   },
   "file_extension": ".py",
   "mimetype": "text/x-python",
   "name": "python",
   "nbconvert_exporter": "python",
   "pygments_lexer": "ipython3",
   "version": "3.5.3"
  }
 },
 "nbformat": 4,
 "nbformat_minor": 2
}
